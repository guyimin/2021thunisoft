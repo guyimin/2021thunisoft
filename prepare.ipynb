{
 "cells": [
  {
   "cell_type": "code",
   "execution_count": 1,
   "metadata": {},
   "outputs": [],
   "source": [
    "import pandas as pd\n",
    "import os"
   ]
  },
  {
   "cell_type": "code",
   "execution_count": 11,
   "metadata": {},
   "outputs": [],
   "source": [
    "df_list = []\n",
    "for vo in os.listdir('dataset/cmcc'):\n",
    "    df_list.append(pd.read_csv('dataset/cmcc/' + vo, sep='\\t'))"
   ]
  },
  {
   "cell_type": "code",
   "execution_count": 21,
   "metadata": {},
   "outputs": [],
   "source": [
    "for i in range(3):\n",
    "    vo = df_list[i]\n",
    "    vo = vo.T.reset_index().T.reset_index(drop=True)\n",
    "    vo.columns = ['level','text']\n",
    "    df_list[i] = vo"
   ]
  },
  {
   "cell_type": "code",
   "execution_count": 45,
   "metadata": {},
   "outputs": [],
   "source": [
    "df = pd.merge(df_list[2],df_list[1],how='outer')\n",
    "df = pd.merge(df_list[0],df,how='outer')"
   ]
  },
  {
   "cell_type": "code",
   "execution_count": 2,
   "metadata": {},
   "outputs": [],
   "source": [
    "df = pd.read_csv('dataset/cmcc/full.csv')"
   ]
  },
  {
   "cell_type": "code",
   "execution_count": 4,
   "metadata": {
    "tags": []
   },
   "outputs": [
    {
     "data": {
      "text/plain": [
       "<AxesSubplot:>"
      ]
     },
     "execution_count": 4,
     "metadata": {},
     "output_type": "execute_result"
    },
    {
     "data": {
      "image/png": "[encoded data removed]",
      "text/plain": [
       "<Figure size 1440x720 with 1 Axes>"
      ]
     },
     "metadata": {
      "needs_background": "light"
     },
     "output_type": "display_data"
    }
   ],
   "source": [
    "df.level.value_counts().plot(kind='bar',figsize=(20,10))"
   ]
  },
  {
   "cell_type": "code",
   "execution_count": 12,
   "metadata": {},
   "outputs": [
    {
     "data": {
      "text/plain": [
       "4799"
      ]
     },
     "execution_count": 12,
     "metadata": {},
     "output_type": "execute_result"
    }
   ],
   "source": [
    "df.level.value_counts().to_dict()[87]"
   ]
  },
  {
   "cell_type": "code",
   "execution_count": 47,
   "metadata": {},
   "outputs": [],
   "source": [
    "import rjieba\n",
    "import re\n",
    "stopwords = [i.strip() for i in open('dataset/stopwords/cn_stopwords.txt').readlines()]\n",
    " \n",
    "def pretty_cut(sentence):\n",
    "    cut_list = rjieba.cut(''.join(re.findall('[\\u4e00-\\u9fa5]', sentence)))\n",
    "    for i in range(len(cut_list)-1, -1, -1):\n",
    "        if cut_list[i] in stopwords:\n",
    "            del cut_list[i]\n",
    "    return cut_list"
   ]
  },
  {
   "cell_type": "code",
   "execution_count": 48,
   "metadata": {},
   "outputs": [],
   "source": [
    "df['text'] = df['text'].apply(lambda x: pretty_cut(x))"
   ]
  },
  {
   "cell_type": "code",
   "execution_count": 49,
   "metadata": {},
   "outputs": [],
   "source": [
    "df['text'] = df['text'].apply(lambda x: ''.join(map(str, x)))"
   ]
  },
  {
   "cell_type": "code",
   "execution_count": 56,
   "metadata": {},
   "outputs": [
    {
     "data": {
      "text/html": [
       "<div>\n",
       "<style scoped>\n",
       "    .dataframe tbody tr th:only-of-type {\n",
       "        vertical-align: middle;\n",
       "    }\n",
       "\n",
       "    .dataframe tbody tr th {\n",
       "        vertical-align: top;\n",
       "    }\n",
       "\n",
       "    .dataframe thead th {\n",
       "        text-align: right;\n",
       "    }\n",
       "</style>\n",
       "<table border=\"1\" class=\"dataframe\">\n",
       "  <thead>\n",
       "    <tr style=\"text-align: right;\">\n",
       "      <th></th>\n",
       "      <th>level</th>\n",
       "      <th>text</th>\n",
       "    </tr>\n",
       "  </thead>\n",
       "  <tbody>\n",
       "    <tr>\n",
       "      <th>0</th>\n",
       "      <td>50</td>\n",
       "      <td>驰越公司提出诉讼请求要求立即支付塔吊租赁费元年月日起以元基数每天千分之五支付违约金塔吊租赁费...</td>\n",
       "    </tr>\n",
       "    <tr>\n",
       "      <th>1</th>\n",
       "      <td>79</td>\n",
       "      <td>原告诉称月入职年月日拖欠数月工资全面停产单方面解除劳动合同经济补偿金未发放认为原因单方面解除...</td>\n",
       "    </tr>\n",
       "    <tr>\n",
       "      <th>2</th>\n",
       "      <td>51</td>\n",
       "      <td>反诉黄云祥谢桂华谢海华诉称三协议合伙兴建废品加工厂考察拟将厂址设在下七乡杨坑村沿河高坡窝口坪...</td>\n",
       "    </tr>\n",
       "    <tr>\n",
       "      <th>3</th>\n",
       "      <td>81</td>\n",
       "      <td>本案相关情况查明徐安英光彦公司工作未参加社会保险徐安英光彦公司邮寄辞职信以光彦公司未办理社会...</td>\n",
       "    </tr>\n",
       "    <tr>\n",
       "      <th>4</th>\n",
       "      <td>50</td>\n",
       "      <td>反诉提出诉讼请求请求人民法院判决立即支付租金元依法解除双方签订石坝村发展壮大村集体经济项目租...</td>\n",
       "    </tr>\n",
       "    <tr>\n",
       "      <th>5</th>\n",
       "      <td>81</td>\n",
       "      <td>原审法院查明年月日光彦公司登记成立高美娥光彦公司从事机工工作光彦公司未为高美娥办理社会保险年...</td>\n",
       "    </tr>\n",
       "    <tr>\n",
       "      <th>6</th>\n",
       "      <td>43</td>\n",
       "      <td>案件事实借款合同约定情况合同名称易分期业务贷款合同出借人为借款人借款金额元签约日期年月日借款...</td>\n",
       "    </tr>\n",
       "    <tr>\n",
       "      <th>7</th>\n",
       "      <td>37</td>\n",
       "      <td>张进莺申请再审称请求依法撤销京民初号民事判决书改判令杜文华返还位于北京市延庆区村东临黄国英南...</td>\n",
       "    </tr>\n",
       "    <tr>\n",
       "      <th>8</th>\n",
       "      <td>59</td>\n",
       "      <td>富侨重庆控股有限公司诉称第号富侨图商标第号富侨商标权利公司成立一直从事足疗保健行业国家商标局...</td>\n",
       "    </tr>\n",
       "    <tr>\n",
       "      <th>9</th>\n",
       "      <td>62</td>\n",
       "      <td>上海机械科技有限公司提出诉讼请求停止使用牌高频破碎锤书面道歉事实理由上海上鸣机械科技有限公司...</td>\n",
       "    </tr>\n",
       "  </tbody>\n",
       "</table>\n",
       "</div>"
      ],
      "text/plain": [
       "  level                                               text\n",
       "0    50  驰越公司提出诉讼请求要求立即支付塔吊租赁费元年月日起以元基数每天千分之五支付违约金塔吊租赁费...\n",
       "1    79  原告诉称月入职年月日拖欠数月工资全面停产单方面解除劳动合同经济补偿金未发放认为原因单方面解除...\n",
       "2    51  反诉黄云祥谢桂华谢海华诉称三协议合伙兴建废品加工厂考察拟将厂址设在下七乡杨坑村沿河高坡窝口坪...\n",
       "3    81  本案相关情况查明徐安英光彦公司工作未参加社会保险徐安英光彦公司邮寄辞职信以光彦公司未办理社会...\n",
       "4    50  反诉提出诉讼请求请求人民法院判决立即支付租金元依法解除双方签订石坝村发展壮大村集体经济项目租...\n",
       "5    81  原审法院查明年月日光彦公司登记成立高美娥光彦公司从事机工工作光彦公司未为高美娥办理社会保险年...\n",
       "6    43  案件事实借款合同约定情况合同名称易分期业务贷款合同出借人为借款人借款金额元签约日期年月日借款...\n",
       "7    37  张进莺申请再审称请求依法撤销京民初号民事判决书改判令杜文华返还位于北京市延庆区村东临黄国英南...\n",
       "8    59  富侨重庆控股有限公司诉称第号富侨图商标第号富侨商标权利公司成立一直从事足疗保健行业国家商标局...\n",
       "9    62  上海机械科技有限公司提出诉讼请求停止使用牌高频破碎锤书面道歉事实理由上海上鸣机械科技有限公司..."
      ]
     },
     "execution_count": 56,
     "metadata": {},
     "output_type": "execute_result"
    }
   ],
   "source": [
    "df.head(10)"
   ]
  },
  {
   "cell_type": "code",
   "execution_count": 57,
   "metadata": {},
   "outputs": [],
   "source": [
    "df.to_csv('dataset/cmcc/full.csv',index=False)"
   ]
  },
  {
   "cell_type": "code",
   "execution_count": 61,
   "metadata": {},
   "outputs": [],
   "source": [
    "train_set = df.sample(frac=0.95)\n",
    "train_set.to_csv('dataset/cmcc/train.tsv',sep='\\t',index=False)"
   ]
  },
  {
   "cell_type": "code",
   "execution_count": 62,
   "metadata": {},
   "outputs": [],
   "source": [
    "test_set = df.drop(train_set.index)"
   ]
  },
  {
   "cell_type": "code",
   "execution_count": 63,
   "metadata": {},
   "outputs": [],
   "source": [
    "test_set.to_csv('dataset/cmcc/test.tsv',sep='\\t',index=False)"
   ]
  },
  {
   "cell_type": "code",
   "execution_count": 64,
   "metadata": {},
   "outputs": [],
   "source": [
    "test_set.to_csv('dataset/cmcc/dev.tsv',sep='\\t',index=False)"
   ]
  },
  {
   "cell_type": "code",
   "execution_count": null,
   "metadata": {},
   "outputs": [],
   "source": []
  }
 ],
 "metadata": {
  "kernelspec": {
   "display_name": "Python 3",
   "language": "python",
   "name": "python3"
  },
  "language_info": {
   "codemirror_mode": {
    "name": "ipython",
    "version": 3
   },
   "file_extension": ".py",
   "mimetype": "text/x-python",
   "name": "python",
   "nbconvert_exporter": "python",
   "pygments_lexer": "ipython3",
   "version": "3.8.5"
  }
 },
 "nbformat": 4,
 "nbformat_minor": 4
}
